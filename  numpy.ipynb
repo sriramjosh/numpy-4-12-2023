{
 "cells": [
  {
   "cell_type": "code",
   "execution_count": 2,
   "id": "03bc32ad",
   "metadata": {},
   "outputs": [],
   "source": [
    "import numpy as np\n"
   ]
  },
  {
   "cell_type": "markdown",
   "id": "385d1c81",
   "metadata": {},
   "source": [
    "#### 1. Write a program to create a 5 dimensional array with all   ones and zeros"
   ]
  },
  {
   "cell_type": "code",
   "execution_count": 14,
   "id": "ed1b2be7",
   "metadata": {},
   "outputs": [
    {
     "name": "stdout",
     "output_type": "stream",
     "text": [
      "[[[[[1. 1. 1.]\n",
      "    [1. 1. 1.]\n",
      "    [1. 1. 1.]]\n",
      "\n",
      "   [[1. 1. 1.]\n",
      "    [1. 1. 1.]\n",
      "    [1. 1. 1.]]\n",
      "\n",
      "   [[1. 1. 1.]\n",
      "    [1. 1. 1.]\n",
      "    [1. 1. 1.]]]\n",
      "\n",
      "\n",
      "  [[[1. 1. 1.]\n",
      "    [1. 1. 1.]\n",
      "    [1. 1. 1.]]\n",
      "\n",
      "   [[1. 1. 1.]\n",
      "    [1. 1. 1.]\n",
      "    [1. 1. 1.]]\n",
      "\n",
      "   [[1. 1. 1.]\n",
      "    [1. 1. 1.]\n",
      "    [1. 1. 1.]]]\n",
      "\n",
      "\n",
      "  [[[1. 1. 1.]\n",
      "    [1. 1. 1.]\n",
      "    [1. 1. 1.]]\n",
      "\n",
      "   [[1. 1. 1.]\n",
      "    [1. 1. 1.]\n",
      "    [1. 1. 1.]]\n",
      "\n",
      "   [[1. 1. 1.]\n",
      "    [1. 1. 1.]\n",
      "    [1. 1. 1.]]]]\n",
      "\n",
      "\n",
      "\n",
      " [[[[1. 1. 1.]\n",
      "    [1. 1. 1.]\n",
      "    [1. 1. 1.]]\n",
      "\n",
      "   [[1. 1. 1.]\n",
      "    [1. 1. 1.]\n",
      "    [1. 1. 1.]]\n",
      "\n",
      "   [[1. 1. 1.]\n",
      "    [1. 1. 1.]\n",
      "    [1. 1. 1.]]]\n",
      "\n",
      "\n",
      "  [[[1. 1. 1.]\n",
      "    [1. 1. 1.]\n",
      "    [1. 1. 1.]]\n",
      "\n",
      "   [[1. 1. 1.]\n",
      "    [1. 1. 1.]\n",
      "    [1. 1. 1.]]\n",
      "\n",
      "   [[1. 1. 1.]\n",
      "    [1. 1. 1.]\n",
      "    [1. 1. 1.]]]\n",
      "\n",
      "\n",
      "  [[[1. 1. 1.]\n",
      "    [1. 1. 1.]\n",
      "    [1. 1. 1.]]\n",
      "\n",
      "   [[1. 1. 1.]\n",
      "    [1. 1. 1.]\n",
      "    [1. 1. 1.]]\n",
      "\n",
      "   [[1. 1. 1.]\n",
      "    [1. 1. 1.]\n",
      "    [1. 1. 1.]]]]\n",
      "\n",
      "\n",
      "\n",
      " [[[[1. 1. 1.]\n",
      "    [1. 1. 1.]\n",
      "    [1. 1. 1.]]\n",
      "\n",
      "   [[1. 1. 1.]\n",
      "    [1. 1. 1.]\n",
      "    [1. 1. 1.]]\n",
      "\n",
      "   [[1. 1. 1.]\n",
      "    [1. 1. 1.]\n",
      "    [1. 1. 1.]]]\n",
      "\n",
      "\n",
      "  [[[1. 1. 1.]\n",
      "    [1. 1. 1.]\n",
      "    [1. 1. 1.]]\n",
      "\n",
      "   [[1. 1. 1.]\n",
      "    [1. 1. 1.]\n",
      "    [1. 1. 1.]]\n",
      "\n",
      "   [[1. 1. 1.]\n",
      "    [1. 1. 1.]\n",
      "    [1. 1. 1.]]]\n",
      "\n",
      "\n",
      "  [[[1. 1. 1.]\n",
      "    [1. 1. 1.]\n",
      "    [1. 1. 1.]]\n",
      "\n",
      "   [[1. 1. 1.]\n",
      "    [1. 1. 1.]\n",
      "    [1. 1. 1.]]\n",
      "\n",
      "   [[1. 1. 1.]\n",
      "    [1. 1. 1.]\n",
      "    [1. 1. 1.]]]]]\n"
     ]
    }
   ],
   "source": [
    "x = np.ones((3,3,3,3,3))\n",
    "print(x)"
   ]
  },
  {
   "cell_type": "code",
   "execution_count": 18,
   "id": "291f1544",
   "metadata": {},
   "outputs": [
    {
     "name": "stdout",
     "output_type": "stream",
     "text": [
      "[[[[[0. 0. 0.]\n",
      "    [0. 0. 0.]\n",
      "    [0. 0. 0.]]\n",
      "\n",
      "   [[0. 0. 0.]\n",
      "    [0. 0. 0.]\n",
      "    [0. 0. 0.]]\n",
      "\n",
      "   [[0. 0. 0.]\n",
      "    [0. 0. 0.]\n",
      "    [0. 0. 0.]]]\n",
      "\n",
      "\n",
      "  [[[0. 0. 0.]\n",
      "    [0. 0. 0.]\n",
      "    [0. 0. 0.]]\n",
      "\n",
      "   [[0. 0. 0.]\n",
      "    [0. 0. 0.]\n",
      "    [0. 0. 0.]]\n",
      "\n",
      "   [[0. 0. 0.]\n",
      "    [0. 0. 0.]\n",
      "    [0. 0. 0.]]]\n",
      "\n",
      "\n",
      "  [[[0. 0. 0.]\n",
      "    [0. 0. 0.]\n",
      "    [0. 0. 0.]]\n",
      "\n",
      "   [[0. 0. 0.]\n",
      "    [0. 0. 0.]\n",
      "    [0. 0. 0.]]\n",
      "\n",
      "   [[0. 0. 0.]\n",
      "    [0. 0. 0.]\n",
      "    [0. 0. 0.]]]]\n",
      "\n",
      "\n",
      "\n",
      " [[[[0. 0. 0.]\n",
      "    [0. 0. 0.]\n",
      "    [0. 0. 0.]]\n",
      "\n",
      "   [[0. 0. 0.]\n",
      "    [0. 0. 0.]\n",
      "    [0. 0. 0.]]\n",
      "\n",
      "   [[0. 0. 0.]\n",
      "    [0. 0. 0.]\n",
      "    [0. 0. 0.]]]\n",
      "\n",
      "\n",
      "  [[[0. 0. 0.]\n",
      "    [0. 0. 0.]\n",
      "    [0. 0. 0.]]\n",
      "\n",
      "   [[0. 0. 0.]\n",
      "    [0. 0. 0.]\n",
      "    [0. 0. 0.]]\n",
      "\n",
      "   [[0. 0. 0.]\n",
      "    [0. 0. 0.]\n",
      "    [0. 0. 0.]]]\n",
      "\n",
      "\n",
      "  [[[0. 0. 0.]\n",
      "    [0. 0. 0.]\n",
      "    [0. 0. 0.]]\n",
      "\n",
      "   [[0. 0. 0.]\n",
      "    [0. 0. 0.]\n",
      "    [0. 0. 0.]]\n",
      "\n",
      "   [[0. 0. 0.]\n",
      "    [0. 0. 0.]\n",
      "    [0. 0. 0.]]]]\n",
      "\n",
      "\n",
      "\n",
      " [[[[0. 0. 0.]\n",
      "    [0. 0. 0.]\n",
      "    [0. 0. 0.]]\n",
      "\n",
      "   [[0. 0. 0.]\n",
      "    [0. 0. 0.]\n",
      "    [0. 0. 0.]]\n",
      "\n",
      "   [[0. 0. 0.]\n",
      "    [0. 0. 0.]\n",
      "    [0. 0. 0.]]]\n",
      "\n",
      "\n",
      "  [[[0. 0. 0.]\n",
      "    [0. 0. 0.]\n",
      "    [0. 0. 0.]]\n",
      "\n",
      "   [[0. 0. 0.]\n",
      "    [0. 0. 0.]\n",
      "    [0. 0. 0.]]\n",
      "\n",
      "   [[0. 0. 0.]\n",
      "    [0. 0. 0.]\n",
      "    [0. 0. 0.]]]\n",
      "\n",
      "\n",
      "  [[[0. 0. 0.]\n",
      "    [0. 0. 0.]\n",
      "    [0. 0. 0.]]\n",
      "\n",
      "   [[0. 0. 0.]\n",
      "    [0. 0. 0.]\n",
      "    [0. 0. 0.]]\n",
      "\n",
      "   [[0. 0. 0.]\n",
      "    [0. 0. 0.]\n",
      "    [0. 0. 0.]]]]]\n"
     ]
    }
   ],
   "source": [
    "y = np.zeros((3,3,3,3,3))\n",
    "print(y)"
   ]
  },
  {
   "cell_type": "markdown",
   "id": "edbc435e",
   "metadata": {},
   "source": [
    "2. Write a program to create an array of 10 zeros,10 ones, and 10 fives in row 1 2 and 3 which create a new array of shape (3,10)"
   ]
  },
  {
   "cell_type": "code",
   "execution_count": 21,
   "id": "9ba78cc9",
   "metadata": {},
   "outputs": [
    {
     "data": {
      "text/plain": [
       "array([[0., 0., 0., 0., 0., 0., 0., 0., 0., 0.],\n",
       "       [1., 1., 1., 1., 1., 1., 1., 1., 1., 1.],\n",
       "       [5., 5., 5., 5., 5., 5., 5., 5., 5., 5.]])"
      ]
     },
     "execution_count": 21,
     "metadata": {},
     "output_type": "execute_result"
    }
   ],
   "source": [
    "x = np.array([np.zeros(10), np.ones(10), np.full(10,5)])\n",
    "x"
   ]
  },
  {
   "cell_type": "markdown",
   "id": "5ce47b74",
   "metadata": {},
   "source": [
    "3. Write a program to create a 3x4 matrix filled with values from 10 to 21."
   ]
  },
  {
   "cell_type": "code",
   "execution_count": 26,
   "id": "f7654173",
   "metadata": {},
   "outputs": [
    {
     "data": {
      "text/plain": [
       "array([[10, 11, 12, 13],\n",
       "       [14, 15, 16, 17],\n",
       "       [18, 19, 20, 21]])"
      ]
     },
     "execution_count": 26,
     "metadata": {},
     "output_type": "execute_result"
    }
   ],
   "source": [
    "z = np.arange(10,22).reshape(3,4)\n",
    "z"
   ]
  },
  {
   "cell_type": "markdown",
   "id": "3a4c0d03",
   "metadata": {},
   "source": [
    "4. Write a program to create a 10x10 zero matrix with elements on the main diagonal equal to 0,1,2,3,4,5,6,7,8,9"
   ]
  },
  {
   "cell_type": "code",
   "execution_count": 28,
   "id": "71dadd9c",
   "metadata": {},
   "outputs": [
    {
     "data": {
      "text/plain": [
       "array([[0., 0., 0., 0., 0., 0., 0., 0., 0., 0.],\n",
       "       [0., 0., 0., 0., 0., 0., 0., 0., 0., 0.],\n",
       "       [0., 0., 0., 0., 0., 0., 0., 0., 0., 0.],\n",
       "       [0., 0., 0., 0., 0., 0., 0., 0., 0., 0.],\n",
       "       [0., 0., 0., 0., 0., 0., 0., 0., 0., 0.],\n",
       "       [0., 0., 0., 0., 0., 0., 0., 0., 0., 0.],\n",
       "       [0., 0., 0., 0., 0., 0., 0., 0., 0., 0.],\n",
       "       [0., 0., 0., 0., 0., 0., 0., 0., 0., 0.],\n",
       "       [0., 0., 0., 0., 0., 0., 0., 0., 0., 0.],\n",
       "       [0., 0., 0., 0., 0., 0., 0., 0., 0., 0.]])"
      ]
     },
     "execution_count": 28,
     "metadata": {},
     "output_type": "execute_result"
    }
   ],
   "source": [
    "x = np.zeros((10,10))\n",
    "x"
   ]
  },
  {
   "cell_type": "code",
   "execution_count": 29,
   "id": "8f7ecf2a",
   "metadata": {},
   "outputs": [],
   "source": [
    "np.fill_diagonal(x, np.arange(10))"
   ]
  },
  {
   "cell_type": "code",
   "execution_count": 31,
   "id": "f9f652ea",
   "metadata": {},
   "outputs": [
    {
     "name": "stdout",
     "output_type": "stream",
     "text": [
      "[[0. 0. 0. 0. 0. 0. 0. 0. 0. 0.]\n",
      " [0. 1. 0. 0. 0. 0. 0. 0. 0. 0.]\n",
      " [0. 0. 2. 0. 0. 0. 0. 0. 0. 0.]\n",
      " [0. 0. 0. 3. 0. 0. 0. 0. 0. 0.]\n",
      " [0. 0. 0. 0. 4. 0. 0. 0. 0. 0.]\n",
      " [0. 0. 0. 0. 0. 5. 0. 0. 0. 0.]\n",
      " [0. 0. 0. 0. 0. 0. 6. 0. 0. 0.]\n",
      " [0. 0. 0. 0. 0. 0. 0. 7. 0. 0.]\n",
      " [0. 0. 0. 0. 0. 0. 0. 0. 8. 0.]\n",
      " [0. 0. 0. 0. 0. 0. 0. 0. 0. 9.]]\n"
     ]
    }
   ],
   "source": [
    "print (x)"
   ]
  },
  {
   "cell_type": "markdown",
   "id": "b3f33763",
   "metadata": {},
   "source": [
    "5. Write a program to create a 4x4 array. Create an array from below array by swapping first and last, second and third columns"
   ]
  },
  {
   "cell_type": "code",
   "execution_count": 32,
   "id": "90f08280",
   "metadata": {},
   "outputs": [],
   "source": [
    "original = np.arange(1,17).reshape(4,4)"
   ]
  },
  {
   "cell_type": "code",
   "execution_count": 33,
   "id": "ac83c4ed",
   "metadata": {},
   "outputs": [
    {
     "data": {
      "text/plain": [
       "array([[ 1,  2,  3,  4],\n",
       "       [ 5,  6,  7,  8],\n",
       "       [ 9, 10, 11, 12],\n",
       "       [13, 14, 15, 16]])"
      ]
     },
     "execution_count": 33,
     "metadata": {},
     "output_type": "execute_result"
    }
   ],
   "source": [
    "original"
   ]
  },
  {
   "cell_type": "code",
   "execution_count": 34,
   "id": "9440e8c5",
   "metadata": {},
   "outputs": [],
   "source": [
    "original[:,(1,2)] = original[:,(-1,0)]"
   ]
  },
  {
   "cell_type": "code",
   "execution_count": 35,
   "id": "fb36ad58",
   "metadata": {},
   "outputs": [],
   "source": [
    "original[:,(1,2)] = original[:,(2,1)]"
   ]
  },
  {
   "cell_type": "code",
   "execution_count": 37,
   "id": "20dd8063",
   "metadata": {},
   "outputs": [
    {
     "data": {
      "text/plain": [
       "array([[ 1,  1,  4,  4],\n",
       "       [ 5,  5,  8,  8],\n",
       "       [ 9,  9, 12, 12],\n",
       "       [13, 13, 16, 16]])"
      ]
     },
     "execution_count": 37,
     "metadata": {},
     "output_type": "execute_result"
    }
   ],
   "source": [
    "original"
   ]
  },
  {
   "cell_type": "markdown",
   "id": "9cf96516",
   "metadata": {},
   "source": [
    "6. Write a program to reverse an array (the first element becomes the last).\n",
    "Given array: [11 12 13 14 15 16 17 18 19 20 21 22 23 24 24 ]"
   ]
  },
  {
   "cell_type": "code",
   "execution_count": 40,
   "id": "06629908",
   "metadata": {},
   "outputs": [],
   "source": [
    "x = np.arange(11,25)1"
   ]
  },
  {
   "cell_type": "code",
   "execution_count": 41,
   "id": "92539adb",
   "metadata": {},
   "outputs": [
    {
     "data": {
      "text/plain": [
       "array([11, 12, 13, 14, 15, 16, 17, 18, 19, 20, 21, 22, 23, 24])"
      ]
     },
     "execution_count": 41,
     "metadata": {},
     "output_type": "execute_result"
    }
   ],
   "source": [
    "x"
   ]
  },
  {
   "cell_type": "code",
   "execution_count": 44,
   "id": "d255fdda",
   "metadata": {},
   "outputs": [
    {
     "data": {
      "text/plain": [
       "array([24, 23, 22, 21, 20, 19, 18, 17, 16, 15, 14, 13, 12, 11])"
      ]
     },
     "execution_count": 44,
     "metadata": {},
     "output_type": "execute_result"
    }
   ],
   "source": [
    "x[::-1] ####[ :: its revese form]"
   ]
  },
  {
   "cell_type": "code",
   "execution_count": 46,
   "id": "49cfce68",
   "metadata": {},
   "outputs": [
    {
     "data": {
      "text/plain": [
       "array([11, 12, 13, 14, 15, 16, 17, 18, 19, 20, 21, 22, 23])"
      ]
     },
     "execution_count": 46,
     "metadata": {},
     "output_type": "execute_result"
    }
   ],
   "source": [
    "x[: -1] #### [: its removes by giving the vlaue of number]"
   ]
  },
  {
   "cell_type": "code",
   "execution_count": 48,
   "id": "d9d3bd54",
   "metadata": {},
   "outputs": [
    {
     "data": {
      "text/plain": [
       "array([11, 13, 15, 17, 19, 21, 23])"
      ]
     },
     "execution_count": 48,
     "metadata": {},
     "output_type": "execute_result"
    }
   ],
   "source": [
    "x[:: 2] ### removes the betwwn the values"
   ]
  },
  {
   "cell_type": "markdown",
   "id": "313e02bc",
   "metadata": {},
   "source": [
    "7. Write a program to access all the elements greater than 30 and less than 80 and multiples of 5 from an array of shape 10,10 .Elements range from 1 to 100"
   ]
  },
  {
   "cell_type": "code",
   "execution_count": 51,
   "id": "e24db895",
   "metadata": {},
   "outputs": [
    {
     "data": {
      "text/plain": [
       "array([[  1,   2,   3,   4,   5,   6,   7,   8,   9,  10],\n",
       "       [ 11,  12,  13,  14,  15,  16,  17,  18,  19,  20],\n",
       "       [ 21,  22,  23,  24,  25,  26,  27,  28,  29,  30],\n",
       "       [ 31,  32,  33,  34,  35,  36,  37,  38,  39,  40],\n",
       "       [ 41,  42,  43,  44,  45,  46,  47,  48,  49,  50],\n",
       "       [ 51,  52,  53,  54,  55,  56,  57,  58,  59,  60],\n",
       "       [ 61,  62,  63,  64,  65,  66,  67,  68,  69,  70],\n",
       "       [ 71,  72,  73,  74,  75,  76,  77,  78,  79,  80],\n",
       "       [ 81,  82,  83,  84,  85,  86,  87,  88,  89,  90],\n",
       "       [ 91,  92,  93,  94,  95,  96,  97,  98,  99, 100]])"
      ]
     },
     "execution_count": 51,
     "metadata": {},
     "output_type": "execute_result"
    }
   ],
   "source": [
    "matrix = np.arange(1,101).reshape(10,10)\n",
    "matrix"
   ]
  },
  {
   "cell_type": "markdown",
   "id": "a3a2444d",
   "metadata": {},
   "source": [
    "###### np.where = helps you find the indices where a certain condition is true in an array\n",
    "indices = np.where(condition)\n",
    "where,\n",
    "\n",
    "condition is a boolean condition applied to an array.\n",
    "np.where returns the indices where the condition is true"
   ]
  },
  {
   "cell_type": "code",
   "execution_count": 52,
   "id": "3d2e1aa1",
   "metadata": {},
   "outputs": [],
   "source": [
    "multiples = matrix[np.where((matrix > 30) & (matrix < 80) & (matrix % 5 == 0))]\n"
   ]
  },
  {
   "cell_type": "code",
   "execution_count": 53,
   "id": "93c567a0",
   "metadata": {},
   "outputs": [
    {
     "data": {
      "text/plain": [
       "array([35, 40, 45, 50, 55, 60, 65, 70, 75])"
      ]
     },
     "execution_count": 53,
     "metadata": {},
     "output_type": "execute_result"
    }
   ],
   "source": [
    "multiples"
   ]
  },
  {
   "cell_type": "markdown",
   "id": "b9481705",
   "metadata": {},
   "source": [
    "8. Write a program to create a 2D array with 1 on the border and 0 inside.\n"
   ]
  },
  {
   "cell_type": "code",
   "execution_count": 60,
   "id": "1a90d45f",
   "metadata": {},
   "outputs": [],
   "source": [
    "x,y =(10,10)"
   ]
  },
  {
   "cell_type": "code",
   "execution_count": 66,
   "id": "fd0521ab",
   "metadata": {},
   "outputs": [],
   "source": [
    "zz = np.ones ((x,y), dtype = int)"
   ]
  },
  {
   "cell_type": "code",
   "execution_count": 67,
   "id": "e6616b77",
   "metadata": {},
   "outputs": [
    {
     "data": {
      "text/plain": [
       "array([[1, 1, 1, 1, 1, 1, 1, 1, 1, 1],\n",
       "       [1, 1, 1, 1, 1, 1, 1, 1, 1, 1],\n",
       "       [1, 1, 1, 1, 1, 1, 1, 1, 1, 1],\n",
       "       [1, 1, 1, 1, 1, 1, 1, 1, 1, 1],\n",
       "       [1, 1, 1, 1, 1, 1, 1, 1, 1, 1],\n",
       "       [1, 1, 1, 1, 1, 1, 1, 1, 1, 1],\n",
       "       [1, 1, 1, 1, 1, 1, 1, 1, 1, 1],\n",
       "       [1, 1, 1, 1, 1, 1, 1, 1, 1, 1],\n",
       "       [1, 1, 1, 1, 1, 1, 1, 1, 1, 1],\n",
       "       [1, 1, 1, 1, 1, 1, 1, 1, 1, 1]])"
      ]
     },
     "execution_count": 67,
     "metadata": {},
     "output_type": "execute_result"
    }
   ],
   "source": [
    "zz"
   ]
  },
  {
   "cell_type": "code",
   "execution_count": 71,
   "id": "9e14582f",
   "metadata": {},
   "outputs": [],
   "source": [
    "zz[1:-1, 1:-1] = 0 # making middle values as zero's and making rows \n",
    "                        # and columns one's"
   ]
  },
  {
   "cell_type": "code",
   "execution_count": 74,
   "id": "317ee1e2",
   "metadata": {},
   "outputs": [
    {
     "data": {
      "text/plain": [
       "array([[1, 1, 1, 1, 1, 1, 1, 1, 1, 1],\n",
       "       [1, 0, 0, 0, 0, 0, 0, 0, 0, 1],\n",
       "       [1, 0, 0, 0, 0, 0, 0, 0, 0, 1],\n",
       "       [1, 0, 0, 0, 0, 0, 0, 0, 0, 1],\n",
       "       [1, 0, 0, 0, 0, 0, 0, 0, 0, 1],\n",
       "       [1, 0, 0, 0, 0, 0, 0, 0, 0, 1],\n",
       "       [1, 0, 0, 0, 0, 0, 0, 0, 0, 1],\n",
       "       [1, 0, 0, 0, 0, 0, 0, 0, 0, 1],\n",
       "       [1, 0, 0, 0, 0, 0, 0, 0, 0, 1],\n",
       "       [1, 1, 1, 1, 1, 1, 1, 1, 1, 1]])"
      ]
     },
     "execution_count": 74,
     "metadata": {},
     "output_type": "execute_result"
    }
   ],
   "source": [
    "zz"
   ]
  },
  {
   "cell_type": "markdown",
   "id": "16a333a9",
   "metadata": {},
   "source": [
    "9. Write a program to create a checkerboard pattern .Don't use default array function\n",
    "Checkerboard pattern:\n",
    "[[0 1 0 1 0 1 0 1]\n",
    "[1 0 1 0 1 0 1 0]\n",
    "[0 1 0 1 0 1 0 1]\n",
    "[1 0 1 0 1 0 1 0]\n",
    "[0 1 0 1 0 1 0 1]\n",
    "[1 0 1 0 1 0 1 0]\n",
    "[0 1 0 1 0 1 0 1]\n",
    "[1 0 1 0 1 0 1 0]]"
   ]
  },
  {
   "cell_type": "code",
   "execution_count": 75,
   "id": "5ee36432",
   "metadata": {},
   "outputs": [],
   "source": [
    "x,y = 10,10"
   ]
  },
  {
   "cell_type": "code",
   "execution_count": 76,
   "id": "8c0ba805",
   "metadata": {},
   "outputs": [],
   "source": [
    "zz = np.zeros((x,y), dtype = int)"
   ]
  },
  {
   "cell_type": "code",
   "execution_count": 77,
   "id": "17562687",
   "metadata": {},
   "outputs": [
    {
     "data": {
      "text/plain": [
       "array([[0, 0, 0, 0, 0, 0, 0, 0, 0, 0],\n",
       "       [0, 0, 0, 0, 0, 0, 0, 0, 0, 0],\n",
       "       [0, 0, 0, 0, 0, 0, 0, 0, 0, 0],\n",
       "       [0, 0, 0, 0, 0, 0, 0, 0, 0, 0],\n",
       "       [0, 0, 0, 0, 0, 0, 0, 0, 0, 0],\n",
       "       [0, 0, 0, 0, 0, 0, 0, 0, 0, 0],\n",
       "       [0, 0, 0, 0, 0, 0, 0, 0, 0, 0],\n",
       "       [0, 0, 0, 0, 0, 0, 0, 0, 0, 0],\n",
       "       [0, 0, 0, 0, 0, 0, 0, 0, 0, 0],\n",
       "       [0, 0, 0, 0, 0, 0, 0, 0, 0, 0]])"
      ]
     },
     "execution_count": 77,
     "metadata": {},
     "output_type": "execute_result"
    }
   ],
   "source": [
    "zz"
   ]
  },
  {
   "cell_type": "code",
   "execution_count": 80,
   "id": "d48059f7",
   "metadata": {},
   "outputs": [],
   "source": [
    "zz[1::2, ::2] = 1 # places 1's value in every 2-step"
   ]
  },
  {
   "cell_type": "code",
   "execution_count": 81,
   "id": "426b05b7",
   "metadata": {},
   "outputs": [
    {
     "data": {
      "text/plain": [
       "array([[0, 0, 0, 0, 0, 0, 0, 0, 0, 0],\n",
       "       [1, 0, 1, 0, 1, 0, 1, 0, 1, 0],\n",
       "       [0, 0, 0, 0, 0, 0, 0, 0, 0, 0],\n",
       "       [1, 0, 1, 0, 1, 0, 1, 0, 1, 0],\n",
       "       [0, 0, 0, 0, 0, 0, 0, 0, 0, 0],\n",
       "       [1, 0, 1, 0, 1, 0, 1, 0, 1, 0],\n",
       "       [0, 0, 0, 0, 0, 0, 0, 0, 0, 0],\n",
       "       [1, 0, 1, 0, 1, 0, 1, 0, 1, 0],\n",
       "       [0, 0, 0, 0, 0, 0, 0, 0, 0, 0],\n",
       "       [1, 0, 1, 0, 1, 0, 1, 0, 1, 0]])"
      ]
     },
     "execution_count": 81,
     "metadata": {},
     "output_type": "execute_result"
    }
   ],
   "source": [
    "zz"
   ]
  },
  {
   "cell_type": "code",
   "execution_count": 84,
   "id": "2acd3867",
   "metadata": {},
   "outputs": [],
   "source": [
    "zz[::2, 1::2] = 1 # places 1's value in every 1-step "
   ]
  },
  {
   "cell_type": "code",
   "execution_count": 85,
   "id": "a6bc0885",
   "metadata": {},
   "outputs": [
    {
     "data": {
      "text/plain": [
       "array([[0, 1, 0, 1, 0, 1, 0, 1, 0, 1],\n",
       "       [1, 0, 1, 0, 1, 0, 1, 0, 1, 0],\n",
       "       [0, 1, 0, 1, 0, 1, 0, 1, 0, 1],\n",
       "       [1, 0, 1, 0, 1, 0, 1, 0, 1, 0],\n",
       "       [0, 1, 0, 1, 0, 1, 0, 1, 0, 1],\n",
       "       [1, 0, 1, 0, 1, 0, 1, 0, 1, 0],\n",
       "       [0, 1, 0, 1, 0, 1, 0, 1, 0, 1],\n",
       "       [1, 0, 1, 0, 1, 0, 1, 0, 1, 0],\n",
       "       [0, 1, 0, 1, 0, 1, 0, 1, 0, 1],\n",
       "       [1, 0, 1, 0, 1, 0, 1, 0, 1, 0]])"
      ]
     },
     "execution_count": 85,
     "metadata": {},
     "output_type": "execute_result"
    }
   ],
   "source": [
    "zz"
   ]
  },
  {
   "cell_type": "markdown",
   "id": "3773aa4d",
   "metadata": {},
   "source": [
    "11. Write a program to create an array 2d array and then reshape into 1d array"
   ]
  },
  {
   "cell_type": "markdown",
   "id": "5144fae8",
   "metadata": {},
   "source": [
    "n = np.arange(1,5).reshape(2,2)"
   ]
  },
  {
   "cell_type": "code",
   "execution_count": 88,
   "id": "99432556",
   "metadata": {},
   "outputs": [
    {
     "ename": "NameError",
     "evalue": "name 'n' is not defined",
     "output_type": "error",
     "traceback": [
      "\u001b[1;31m---------------------------------------------------------------------------\u001b[0m",
      "\u001b[1;31mNameError\u001b[0m                                 Traceback (most recent call last)",
      "Cell \u001b[1;32mIn[88], line 1\u001b[0m\n\u001b[1;32m----> 1\u001b[0m n\n",
      "\u001b[1;31mNameError\u001b[0m: name 'n' is not defined"
     ]
    }
   ],
   "source": []
  },
  {
   "cell_type": "code",
   "execution_count": null,
   "id": "0726906a",
   "metadata": {},
   "outputs": [],
   "source": []
  },
  {
   "cell_type": "code",
   "execution_count": null,
   "id": "43f0f169",
   "metadata": {},
   "outputs": [],
   "source": []
  }
 ],
 "metadata": {
  "kernelspec": {
   "display_name": "Python 3 (ipykernel)",
   "language": "python",
   "name": "python3"
  },
  "language_info": {
   "codemirror_mode": {
    "name": "ipython",
    "version": 3
   },
   "file_extension": ".py",
   "mimetype": "text/x-python",
   "name": "python",
   "nbconvert_exporter": "python",
   "pygments_lexer": "ipython3",
   "version": "3.11.5"
  }
 },
 "nbformat": 4,
 "nbformat_minor": 5
}
